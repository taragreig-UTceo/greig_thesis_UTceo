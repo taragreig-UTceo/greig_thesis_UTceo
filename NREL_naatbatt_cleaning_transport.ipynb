{
 "cells": [
  {
   "cell_type": "markdown",
   "metadata": {},
   "source": [
    "# Code to clean NREL NAATBatt's data and calculate road distances between facilities to accurately model transportation environmental impacts\n",
    "\n",
    "__________________________________________________________________________________________________________"
   ]
  },
  {
   "cell_type": "code",
   "execution_count": null,
   "metadata": {},
   "outputs": [],
   "source": [
    "import pandas as pd\n",
    "import numpy as np\n",
    "import openpyxl\n",
    "import string as str\n",
    "from itertools import product\n",
    "import sklearn\n",
    "import requests as req\n",
    "import json\n",
    "import time\n",
    "from datetime import datetime as dt"
   ]
  },
  {
   "cell_type": "markdown",
   "metadata": {},
   "source": [
    "### Import data, NAATBatt data set freely available on the NREL website. The exact version included in files here."
   ]
  },
  {
   "cell_type": "code",
   "execution_count": null,
   "metadata": {},
   "outputs": [],
   "source": [
    "# import naatbatt sheets for whole life cycle\n",
    "df_rawm = pd.read_excel(\"Data/naatbatt-EDITABLE.xlsx\",sheet_name='1-RawMatl')\n",
    "df_battm = pd.read_excel(\"Data/naatbatt-EDITABLE.xlsx\",sheet_name='2-Battery Grade Materials')\n",
    "df_battc = pd.read_excel(\"Data/naatbatt-EDITABLE.xlsx\",sheet_name='3-Other Battery Comps Matls')\n",
    "df_cell = pd.read_excel(\"Data/naatbatt-EDITABLE.xlsx\",sheet_name='4-Electrodes and Cells')\n",
    "df_pack = pd.read_excel(\"Data/naatbatt-EDITABLE.xlsx\",sheet_name='5-ModPack')\n",
    "df_eol = pd.read_excel(\"Data/naatbatt-EDITABLE.xlsx\",sheet_name='6-EOL')\n",
    "\n",
    "\n",
    "dfs = [df_rawm,df_battm,df_battc,df_cell,df_pack,df_eol] # list of all dfs\n"
   ]
  },
  {
   "cell_type": "markdown",
   "metadata": {},
   "source": [
    "### Clean data"
   ]
  },
  {
   "cell_type": "code",
   "execution_count": null,
   "metadata": {},
   "outputs": [],
   "source": [
    "# lists to select rows related to LFP, for use in following lines\n",
    "rawm = ['li','graphite']\n",
    "battm = ['lithium','lfp','graphite']\n",
    "cell = ['lfp']\n",
    "eol = ['disassembling','hydro','direct']\n",
    "\n",
    "\n",
    "dfs_i = []\n",
    "# get only operations/facilites within the United States\n",
    "for x in dfs:\n",
    "    x = x[x['Facility Country'] =='US']\n",
    "    dfs_i.append(x)\n",
    "\n",
    "\n",
    "dfs_c = []\n",
    "# get relevent columns and rows from all dfs except eol\n",
    "for n in range(0,5):\n",
    "    x = dfs_i[n]\n",
    "    x = x[['ID', 'Status', 'Supply Chain Segment', 'Company', 'NAATBatt Member',\n",
    "                'Facility Name', 'Product Type', 'Product','Facility or Company Website',\n",
    "                'Facility Address', 'Facility City', 'Facility State or Province',\n",
    "                'Facility Country','Latitude', 'Longitude','Production Capacity', 'Production Units']] # relevent columns\n",
    "    # for each segment, only choose rows related to LFP cell\n",
    "    if n == 0:\n",
    "        x['Product'] = x['Product'].str.lower()\n",
    "        x = x[x['Product'].str.contains('|'.join(rawm),na=False)]\n",
    "    elif n == 1:\n",
    "        x['Product'] = x['Product'].str.lower()\n",
    "        x = x[x['Product'].str.contains('|'.join(battm),na=False)]\n",
    "    elif n == 3:\n",
    "        x['Product'] = x['Product'].str.lower()\n",
    "        x = x[x['Product'].str.contains('|'.join(cell),na=False)]\n",
    "        x = x[x['Production Units'] == 'GWh/yr'] # select rows where capacities are in GWh/yr\n",
    "    elif n == 4:\n",
    "        x = x[x['Production Units'] == 'GWh/yr'] # select rows where capacities are in GWh/yr\n",
    "\n",
    "    # reset index and assign cleaned df to new list\n",
    "    x.reset_index(inplace=True,drop=True)\n",
    "    dfs_c.append(x)\n",
    "\n",
    "\n",
    "df_eol = dfs_i[-1]\n",
    " # df_eol has different columns so do by itself, not in for loop above\n",
    "df_eol = df_eol[['ID', 'Status', 'Supply Chain Segment', 'Company', 'NAATBatt Member',\n",
    "                'Facility Name', 'Facility Type', 'Product', 'Facility Address',\n",
    "                'Facility City', 'Facility State or Province','Facility Country',\n",
    "                'Latitude', 'Longitude','Capacity', 'Capacity Units']]\n",
    "# get relevent rows from eol, not in above code because of column issue\n",
    "df_eol['Facility Type'] = df_eol['Facility Type'].str.lower()\n",
    "df_eol = df_eol[df_eol['Facility Type'].str.contains('|'.join(eol),na=False)]\n",
    "\n",
    "\n",
    "# get cleaned dfs\n",
    "df_rawm = dfs_c[0]\n",
    "df_battm = dfs_c[1]\n",
    "df_battc = dfs_c[2]\n",
    "df_cell = dfs_c[3]\n",
    "df_pack = dfs_c[4]\n",
    "\n",
    "# ignore subsetting warnings"
   ]
  },
  {
   "cell_type": "markdown",
   "metadata": {},
   "source": [
    "### Save cleaned data"
   ]
  },
  {
   "cell_type": "code",
   "execution_count": null,
   "metadata": {},
   "outputs": [],
   "source": [
    "# create a excel writer object\n",
    "with pd.ExcelWriter(\"Data/naatbatt_CLEANED.xlsx\") as writer:\n",
    "    # use to_excel function and specify the sheet_name and index\n",
    "    # to store the dataframe in specified sheet\n",
    "    df_rawm.to_excel(writer, sheet_name=\"RawMaterials\", index=False)\n",
    "    df_battm.to_excel(writer, sheet_name=\"BattMaterials\", index=False)\n",
    "    df_battc.to_excel(writer, sheet_name=\"BattComponents\", index=False)\n",
    "    df_cell.to_excel(writer, sheet_name=\"ElectrodesCells\", index=False)\n",
    "    df_pack.to_excel(writer, sheet_name=\"BattPacks\", index=False)\n",
    "    df_eol.to_excel(writer, sheet_name=\"EOL\", index=False)"
   ]
  },
  {
   "cell_type": "markdown",
   "metadata": {},
   "source": [
    "#### from cleaned data, facilities were researched and selected based on criteria to be accurately modeled, of significant size, and energy storage realted (e.g. wholly EV battery manufacturers weren't considered)"
   ]
  },
  {
   "cell_type": "code",
   "execution_count": null,
   "metadata": {},
   "outputs": [],
   "source": [
    "# import facility location data\n",
    "df_s = pd.read_excel(\"Data/naatbatt_SCENARIOS.xlsx\",sheet_name='scenarios_lists') # facility names at life-cycle stages\n",
    "df_ll = pd.read_excel(\"Data/naatbatt_SCENARIOS.xlsx\",sheet_name='scenarios_Trans') # facility latitude and longitudes\n",
    "\n",
    "value_lists = []\n",
    "for column in df_s.columns[0:]:\n",
    "    value_lists.append(df_s[column].to_list())\n",
    "\n",
    "# cross multiply all the facilities to generate all possible supply routes e.g. raw material from site A is processed at refinery B is made into a battery at facility C...; does not emulate real world possibilities, overestimation of supply routes\n",
    "scenarios = list(product(value_lists[0],value_lists[1],value_lists[2],value_lists[3],value_lists[4]))\n",
    "\n",
    "df_s = pd.DataFrame(scenarios,columns=['mineLi','refineLi','mineGr','battPack','recycle'])\n",
    "df_s.dropna(inplace=True)\n",
    "df_s.reset_index(inplace=True,drop=True)\n",
    "\n",
    "# use stage placeholder, use stage will be modeled as fort stockton texas only\n",
    "df_s['use_placeholder'] = \"use\"\n",
    "df_s = df_s[['mineLi','refineLi','mineGr','battPack','use_placeholder','recycle']]\n",
    "\n",
    "lat_dict = dict(zip(df_ll['name'],df_ll['lat']))\n",
    "lon_dict = dict(zip(df_ll['name'],df_ll['lon']))\n",
    "\n",
    "# column to determine if the scenario is used or not based on real world restrictions (e.g. Hell's kitchen lithium will not be refined at albemarle's processing plant)\n",
    "df_s['del'] = ' '\n",
    "df_s['liSource'] = 'spodumene'\n",
    "\n",
    "# constraints to subset scenarios to real world possibilities\n",
    "for i,r in df_s.iterrows():\n",
    "    if r['mineLi'] == 'Albemarle - Kings Mountain, NC' and r['refineLi'] == 'Albemarle Corporation, Silver Peak NV':\n",
    "        df_s.loc[i,'del'] = 'Yes'\n",
    "    elif r['mineLi'] == \"Hell's Kitchen Lithium and Power Project\" and r['refineLi'] != \"Hell's Kitchen Lithium and Power Project\":\n",
    "        df_s.loc[i,'del'] = 'Yes'\n",
    "    elif r['mineLi'] == 'Albemarle - Kings Mountain, NC' and r['refineLi'] == \"Hell's Kitchen Lithium and Power Project\":\n",
    "        df_s.loc[i,'del'] = 'Yes'\n",
    "    elif r['mineLi'] == 'Albemarle Corporation, Silver Peak NV' and r['refineLi'] == \"Hell's Kitchen Lithium and Power Project\":\n",
    "        df_s.loc[i,'del'] = 'Yes'\n",
    "    elif r['mineLi'] == 'Albemarle Corporation, Silver Peak NV':\n",
    "        df_s.loc[i,'liSource'] = 'brine'\n",
    "    elif r['mineLi'] == r['refineLi'] and r['mineLi'] == \"Hell's Kitchen Lithium and Power Project\":\n",
    "        df_s.loc[i,'liSource'] = 'geothermal_brine'\n",
    "\n",
    "\n",
    "# subset to scenarios\n",
    "df_s = df_s[~(df_s['del']=='Yes')]\n",
    "\n",
    "df_s.reset_index(inplace=True,drop=True)\n",
    "\n",
    "\n",
    "        \n"
   ]
  },
  {
   "cell_type": "code",
   "execution_count": null,
   "metadata": {
    "scrolled": false
   },
   "outputs": [],
   "source": [
    "df_s"
   ]
  },
  {
   "cell_type": "code",
   "execution_count": null,
   "metadata": {},
   "outputs": [],
   "source": [
    "################\n",
    "# TRANSPORTATION DISTANCES\n",
    "\n",
    "fort_stockton_lat = '30.8940'\n",
    "fort_stockton_lon = '-102.8793'\n",
    "\n",
    "# create columns for lat and lon coordinates\n",
    "df_s['lat1'] = 0\n",
    "df_s['lon1'] = 0\n",
    "df_s['lat2'] = 0\n",
    "df_s['lon2'] = 0\n",
    "df_s['lat4'] = 0\n",
    "df_s['lon4'] = 0\n",
    "df_s['lat5'] = fort_stockton_lat # https://www.census.gov/geographies/reference-files/time-series/geo/centers-population.html '37.415725' '-92.346525'\n",
    "df_s['lon5'] = fort_stockton_lon\n",
    "df_s['lat6'] = 0\n",
    "df_s['lon6'] = 0\n",
    "df_s['lat3'] = 0\n",
    "df_s['lon3'] = 0\n",
    "\n",
    "\n",
    "# fill lat and lon coordinates to corresponding scenario locations\n",
    "df_s['lat1'] = df_s['mineLi'].map(lat_dict)\n",
    "df_s['lon1'] = df_s['mineLi'].map(lon_dict)\n",
    "df_s['lat2'] = df_s['refineLi'].map(lat_dict)\n",
    "df_s['lon2'] = df_s['refineLi'].map(lon_dict)\n",
    "df_s['lat4'] = df_s['battPack'].map(lat_dict)\n",
    "df_s['lon4'] = df_s['battPack'].map(lon_dict)\n",
    "df_s['lat6'] = df_s['recycle'].map(lat_dict)\n",
    "df_s['lon6'] = df_s['recycle'].map(lon_dict)\n",
    "df_s['lat3'] = df_s['mineGr'].map(lat_dict)\n",
    "df_s['lon3'] = df_s['mineGr'].map(lon_dict)\n"
   ]
  },
  {
   "cell_type": "code",
   "execution_count": null,
   "metadata": {
    "scrolled": false
   },
   "outputs": [],
   "source": [
    "# df_s"
   ]
  },
  {
   "cell_type": "markdown",
   "metadata": {},
   "source": [
    "### US routes transportation distances by heavy duty road vehicles"
   ]
  },
  {
   "cell_type": "code",
   "execution_count": null,
   "metadata": {},
   "outputs": [],
   "source": [
    "# create columns for transporation distances between segments\n",
    "\n",
    "df_s['trans1'] = 0 # lithium source to lithium processing\n",
    "df_s['trans2'] = 0 # lithium processing to battery manufacturer\n",
    "df_s['trans3'] = 0 # battery manufacturer to proxy use (west Texas, Fort Stockton)\n",
    "df_s['trans4'] = 0 # proxy use to battery recycling\n",
    "df_s['trans5'] = 0 # graphite to battery manufacturer\n",
    "\n",
    "\n",
    "\n",
    "## use Openrouteservice application to find traveling distances between lat and lon coordinates, make a free account, monthly use limitations\n",
    "\n",
    "# key require for software\n",
    "key = '5b3ce3597851110001cf624895482b2e40564e70a1f7588205d525d0'\n",
    "#'5b3ce3597851110001cf624895482b2e40564e70a1f7588205d525d0'\n",
    "\n",
    "# counter required for bug in openrouteservice at time of making; timeout error and need to recall API\n",
    "counter = 0\n",
    "\n",
    "for i,r in df_s.iterrows():\n",
    "\n",
    "    # counter commands for bug\n",
    "    if counter > 3:\n",
    "        print(dt.now())\n",
    "        time.sleep(60)\n",
    "        print(dt.now())\n",
    "        counter = 0\n",
    "\n",
    "    # necessesary data for api call\n",
    "    headers = {\n",
    "        'Accept': 'application/json, application/geo+json, application/gpx+xml, img/png; charset=utf-8',\n",
    "        'Authorization': key,\n",
    "        'Content-Type': 'application/json; charset=utf-8'\n",
    "    }\n",
    "\n",
    "    # get segment distances from coordinates for all scenarios; e.g. scenario 1 raw to refining, scenario 2 refining to manufacturing, etc.\n",
    "    for x in range(8,17,2):\n",
    "        counter = counter + 1\n",
    "        if x in [8,10,12,14]: # columns where lat and lon data are\n",
    "            lat0 = r[x]\n",
    "            lon0 = r[x+1]\n",
    "            lat1 = r[x+2]\n",
    "            lon1 = r[x+3]\n",
    "\n",
    "            body = {\"coordinates\":[[lon0,lat0],[lon1,lat1]],\"radiuses\":[-1]}\n",
    "\n",
    "            call = req.post('https://api.openrouteservice.org/v2/directions/driving-hgv/geojson', json=body, headers=headers)\n",
    "            json_obj = call.json()\n",
    "           \n",
    "\n",
    "            trans_dist = json_obj['features'][0]['properties']['segments'][0]['distance']\n",
    "\n",
    "            # distances in meters, get kilometers\n",
    "            if x == 8:\n",
    "                df_s.loc[i,'trans1'] = trans_dist/1000\n",
    "            elif x == 10:\n",
    "                df_s.loc[i,'trans2'] = trans_dist/1000\n",
    "            elif x == 12:\n",
    "                df_s.loc[i,'trans3'] = trans_dist/1000\n",
    "            elif x == 14:\n",
    "                df_s.loc[i,'trans4'] = trans_dist/1000\n",
    "        else:\n",
    "            lat0 = r['lat3']\n",
    "            lon0 = r['lon3']\n",
    "            lat1 = r['lat4']\n",
    "            lon1 = r['lon4']\n",
    "            body = {\"coordinates\":[[lon0,lat0],[lon1,lat1]],\"radiuses\":[-1]}\n",
    "        \n",
    "            call = req.post('https://api.openrouteservice.org/v2/directions/driving-car/geojson', json=body, headers=headers)\n",
    "            json_obj = call.json()\n",
    "\n",
    "            # distances in meters, get kilometers\n",
    "            df_s.loc[i,'trans5'] = json_obj['features'][0]['properties']['segments'][0]['distance']/1000\n",
    "        \n",
    "## sometimes will error out due to application capacity constrains...run later, try at night when less web traffic\n"
   ]
  },
  {
   "cell_type": "code",
   "execution_count": null,
   "metadata": {
    "scrolled": false
   },
   "outputs": [],
   "source": [
    "df_s"
   ]
  },
  {
   "cell_type": "code",
   "execution_count": null,
   "metadata": {},
   "outputs": [],
   "source": [
    "# save data\n",
    "df_s.to_csv(\"Data/naatbatt_SCENARIOS_distances.csv\")\n",
    "\n",
    "# with pd.ExcelWriter(\"Data/naatbatt_SCENARIOS_latlon.xlsx\") as writer:\n",
    "#     df_s.to_excel(writer, sheet_name=\"SCENARIOS_dist\", index=False)"
   ]
  },
  {
   "cell_type": "code",
   "execution_count": null,
   "metadata": {
    "scrolled": false
   },
   "outputs": [],
   "source": [
    "# sum distances to get total route driving distance\n",
    "df_s['transdist (m)'] = df_s['trans1']  + df_s['trans2'] + df_s['trans3']  + df_s['trans4'] + df_s['trans5']\n",
    "\n",
    "\n",
    "# distance just for west texas, e.g. no recycling, cradel to gate\n",
    "df_s['cradel2gate_transdist'] = df_s['trans1']  + df_s['trans2'] + df_s['trans3']  + df_s['trans5'] # transportation to get to west Texas in km"
   ]
  },
  {
   "cell_type": "code",
   "execution_count": null,
   "metadata": {
    "scrolled": false
   },
   "outputs": [],
   "source": [
    "# clean data set\n",
    "df_s.reset_index(inplace=True)\n",
    "df_s.rename(columns = {'index':'scenarioID'},inplace=True)\n",
    "df_s"
   ]
  },
  {
   "cell_type": "code",
   "execution_count": null,
   "metadata": {},
   "outputs": [],
   "source": [
    "df_s.to_csv(\"Data/scenarios_final.csv\") # after saving, duplicate hell's kitchen in excel and duplication with LiOH production (hell's kitchen will produce both Li2CO3 and LiOH)"
   ]
  },
  {
   "cell_type": "markdown",
   "metadata": {},
   "source": [
    "### PRC route distance (port of LA to Fort Stockton)\n",
    "Sea transport distance already found and inputed directly into OpenLCA process data"
   ]
  },
  {
   "cell_type": "code",
   "execution_count": null,
   "metadata": {},
   "outputs": [],
   "source": [
    "######## PRC transport \n",
    "\n",
    "\n",
    "# port of LA to fort stockton\n",
    "key = '5b3ce3597851110001cf624895482b2e40564e70a1f7588205d525d0'\n",
    "\n",
    "headers = {\n",
    "    'Accept': 'application/json, application/geo+json, application/gpx+xml, img/png; charset=utf-8',\n",
    "    'Authorization': key,\n",
    "    'Content-Type': 'application/json; charset=utf-8'\n",
    "}\n",
    "\n",
    "\n",
    "lat0 = '33.7291858'\n",
    "lon0 = '-118.2620'\n",
    "fort_stockton_lat = '30.8940'\n",
    "fort_stockton_lon = '-102.8793'\n",
    "body = {\"coordinates\":[[lon0,lat0],[fort_stockton_lon,fort_stockton_lat]],\"radiuses\":[-1]}\n",
    "\n",
    "call = req.post('https://api.openrouteservice.org/v2/directions/driving-car/geojson', json=body, headers=headers)\n",
    "\n",
    "json_obj = call.json()\n",
    "\n",
    "json_obj['features'][0]['properties']['segments'][0]['distance']/1000"
   ]
  }
 ],
 "metadata": {
  "kernelspec": {
   "display_name": "Python 3 (ipykernel)",
   "language": "python",
   "name": "python3"
  },
  "language_info": {
   "codemirror_mode": {
    "name": "ipython",
    "version": 3
   },
   "file_extension": ".py",
   "mimetype": "text/x-python",
   "name": "python",
   "nbconvert_exporter": "python",
   "pygments_lexer": "ipython3",
   "version": "3.11.5"
  },
  "vscode": {
   "interpreter": {
    "hash": "3cc788f764f67ff86de151005cf045793ac2bd45e7d4454a54e33306bd101b7a"
   }
  }
 },
 "nbformat": 4,
 "nbformat_minor": 2
}
