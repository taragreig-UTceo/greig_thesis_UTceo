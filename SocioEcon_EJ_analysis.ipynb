{
 "cells": [
  {
   "cell_type": "markdown",
   "id": "29dca58a",
   "metadata": {},
   "source": [
    "# Code for comparing demographics of area near facilities with that of the broader US and other identified environmental priorities\n",
    "\n",
    "___________________________________________________________________________________________________________"
   ]
  },
  {
   "cell_type": "code",
   "execution_count": null,
   "id": "69ec71b7",
   "metadata": {},
   "outputs": [],
   "source": [
    "import pandas as pd\n",
    "import numpy as np\n",
    "import statistics as s\n",
    "import math as m"
   ]
  },
  {
   "cell_type": "code",
   "execution_count": null,
   "id": "7940d4f6",
   "metadata": {},
   "outputs": [],
   "source": [
    "# US wide census data\n",
    "\n",
    "us_total = 333287562 # ACS 5-year 2022 US total population\n",
    "\n",
    "us_white = 202889017/us_total\n",
    "us_black = 40603656/us_total\n",
    "us_asian = 19696980/us_total\n",
    "us_hawaiian = 665807/us_total\n",
    "us_indigenous = 3205331/us_total\n",
    "us_incLessHalf = 19950754/325521470 # people in US below 50% of poverty line, US total population different in census data for this stat\n",
    "us_women = 168059348/us_total\n",
    "us_men = 165228214/us_total\n",
    "\n",
    "# list to loop through stats\n",
    "us_stats = [us_black,us_white,us_indigenous,us_asian,us_hawaiian,us_men,us_women,us_incLessHalf]\n"
   ]
  },
  {
   "cell_type": "markdown",
   "id": "33a16ee4",
   "metadata": {},
   "source": [
    "## Pulling data from Excel files and dataframe creation"
   ]
  },
  {
   "cell_type": "code",
   "execution_count": null,
   "id": "55be8830",
   "metadata": {},
   "outputs": [],
   "source": [
    "# data sets aquired through ArcGIS using public EC and EJ Data as well as the data sets produced in the NAATBatt_Census_Analysis script\n",
    "df1 = pd.read_csv(\"Data/EJScreen_EC_Facilities/EC/battcomponent_facilities_EC.csv\")\n",
    "df2 = pd.read_csv(\"Data/EJScreen_EC_Facilities/EC/electrodecell_facilities_EC.csv\")\n",
    "df3 = pd.read_csv(\"Data/EJScreen_EC_Facilities/EC/material_facilities_EC.csv\")\n",
    "df4 = pd.read_csv(\"Data/EJScreen_EC_Facilities/EC/modulepack_facilities_EC.csv\")\n",
    "\n",
    "df5 = pd.read_csv(\"Data/EJScreen_EC_Facilities/EJ/battcomponent_facilities_EJ.csv\")\n",
    "df6 = pd.read_csv(\"Data/EJScreen_EC_Facilities/EJ/electrodecell_facilities_EJ.csv\")\n",
    "df7 = pd.read_csv(\"Data/EJScreen_EC_Facilities/EJ/material_facilities_EJ.csv\")\n",
    "df8 = pd.read_csv(\"Data/EJScreen_EC_Facilities/EJ/modulepack_facilities_EJ.csv\")\n"
   ]
  },
  {
   "cell_type": "markdown",
   "id": "a4fd71ce",
   "metadata": {},
   "source": [
    "## Get average analagous stats for block groups with a facility"
   ]
  },
  {
   "cell_type": "code",
   "execution_count": null,
   "id": "0f89ccfb",
   "metadata": {},
   "outputs": [],
   "source": [
    "# create lists for looping\n",
    "dfs_ec = [df1,df2,df3,df4]\n",
    "dfs_ec_clean = []\n",
    "dfs_ej_clean = [df5,df6,df7,df8]"
   ]
  },
  {
   "cell_type": "markdown",
   "id": "d70c9afe",
   "metadata": {},
   "source": [
    "### Energy Communities"
   ]
  },
  {
   "cell_type": "code",
   "execution_count": null,
   "id": "8e46c76a",
   "metadata": {},
   "outputs": [],
   "source": [
    "## for Energy Community analysis\n",
    "# subset to Energy Community qualifying block groups\n",
    "for df in dfs_ec:\n",
    "    df = df[df['EC_qual_st'] == 'Yes']\n",
    "    dfs_ec_clean.append(df)\n",
    "\n",
    "\n",
    "# get demographic stats in block groups\n",
    "dfs_demo_percs = []\n",
    "for x in dfs_ec_clean:\n",
    "    x['percBlack'] = x['blackPop']/x['totalPop']\n",
    "    x['percWhite'] = x['whitePop']/x['totalPop']\n",
    "    x['percIndigenous'] = x['indigenous']/x['totalPop']\n",
    "    x['percAsian'] = x['asianPop']/x['totalPop']\n",
    "    x['percHawaiianPacific'] = x['hawaiiPaci']/x['totalPop']\n",
    "    x['percMale'] = x['malePop']/x['totalPop']\n",
    "    x['percFemale'] = x['femalePop']/x['totalPop']\n",
    "    x['percIncLessHalf'] = x['incLessHal']/x['totalPop']\n",
    "    x = x[['percBlack','percWhite','percIndigenous','percAsian','percHawaiianPacific','percMale','percFemale','percIncLessHalf']]\n",
    "    dfs_demo_percs.append(x)\n",
    "\n",
    "# create table displaying demographic data and US stat, average of block groups\n",
    "dfs_average_perc = []\n",
    "for x in dfs_demo_percs:\n",
    "    x = x.mean()\n",
    "    dfs_average_perc.append(x)\n",
    "\n",
    "df_ec_stage_demo_perc = pd.DataFrame(dfs_average_perc)\n",
    "\n",
    "df_ec_stage_demo_perc.loc[len(df_ec_stage_demo_perc)] = us_stats\n",
    "df_ec_stage_demo_perc"
   ]
  },
  {
   "cell_type": "markdown",
   "id": "5fd9fdb6",
   "metadata": {},
   "source": [
    "### EJScreen"
   ]
  },
  {
   "cell_type": "code",
   "execution_count": null,
   "id": "12b5812c",
   "metadata": {},
   "outputs": [],
   "source": [
    "## for EJScreen analysis\n",
    "# get demographic stats in block groups\n",
    "dfs_demo_percs = []\n",
    "for x in dfs_ej_clean:\n",
    "    x['percBlack'] = x['blackPop']/x['totalPop']\n",
    "    x['percWhite'] = x['whitePop']/x['totalPop']\n",
    "    x['percIndigenous'] = x['indigenous']/x['totalPop']\n",
    "    x['percAsian'] = x['asianPop']/x['totalPop']\n",
    "    x['percHawaiianPacific'] = x['hawaiiPaci']/x['totalPop']\n",
    "    x['percMale'] = x['malePop']/x['totalPop']\n",
    "    x['percFemale'] = x['femalePop']/x['totalPop']\n",
    "    x['percIncLessHalf'] = x['incLessHal']/x['totalPop']\n",
    "    x = x[['percBlack','percWhite','percIndigenous','percAsian','percHawaiianPacific','percMale','percFemale','percIncLessHalf']]\n",
    "    dfs_demo_percs.append(x)\n",
    "\n",
    "# create table displaying demographic data and US stat, average of block groups\n",
    "dfs_average_perc = []\n",
    "for x in dfs_demo_percs:\n",
    "    x = x.mean()\n",
    "    dfs_average_perc.append(x)\n",
    "\n",
    "df_ej_stage_demo_perc = pd.DataFrame(dfs_average_perc)\n",
    "\n",
    "df_ej_stage_demo_perc.loc[len(df_ej_stage_demo_perc)] = us_stats\n",
    "df_ej_stage_demo_perc"
   ]
  }
 ],
 "metadata": {
  "kernelspec": {
   "display_name": "Python 3 (ipykernel)",
   "language": "python",
   "name": "python3"
  },
  "language_info": {
   "codemirror_mode": {
    "name": "ipython",
    "version": 3
   },
   "file_extension": ".py",
   "mimetype": "text/x-python",
   "name": "python",
   "nbconvert_exporter": "python",
   "pygments_lexer": "ipython3",
   "version": "3.11.5"
  }
 },
 "nbformat": 4,
 "nbformat_minor": 5
}
